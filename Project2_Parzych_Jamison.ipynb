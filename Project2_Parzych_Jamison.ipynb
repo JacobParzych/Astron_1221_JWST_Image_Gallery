{
 "cells": [
  {
   "cell_type": "markdown",
   "id": "c98b151d",
   "metadata": {},
   "source": [
    "# JWST Image Gallery Organizer\n",
    "**Astronomy 1221 - Project 2**  \n",
    "**Authors:** Jacob Parzych & Niko Jamison  \n",
    "\n",
    "---\n",
    "\n",
    "## Project Overview\n",
    "This project creates a browsable catalog of James Webb Space Telescope (JWST) observations with metadata organization and image visualization. We extract metadata from astronomical FITS files and organize them into Pandas DataFrames for analysis.\n",
    "\n",
    "### Astronomy Context\n",
    "The James Webb Space Telescope (JWST), launched in 2021, is the most powerful space telescope ever built, observing in infrared wavelengths. FITS (Flexible Image Transport System) is the standard astronomical image format containing both image data and extensive metadata in \"headers.\" The `_i2d.fits` files we'll work with are processed, calibrated 2D images ready for scientific analysis."
   ]
  },
  {
   "cell_type": "markdown",
   "id": "70036693",
   "metadata": {},
   "source": [
    "## Step 1: Install Required Packages\n",
    "First, we need to install the necessary packages for downloading and working with JWST FITS files."
   ]
  },
  {
   "cell_type": "code",
   "execution_count": 1,
   "id": "900bbad7",
   "metadata": {},
   "outputs": [
    {
     "name": "stdout",
     "output_type": "stream",
     "text": [
      "Requirement already satisfied: astroquery in /opt/anaconda3/envs/atron1221/lib/python3.13/site-packages (0.4.11)\n",
      "Requirement already satisfied: astropy in /opt/anaconda3/envs/atron1221/lib/python3.13/site-packages (7.1.1)\n",
      "Requirement already satisfied: pandas in /opt/anaconda3/envs/atron1221/lib/python3.13/site-packages (2.3.3)\n",
      "Requirement already satisfied: matplotlib in /opt/anaconda3/envs/atron1221/lib/python3.13/site-packages (3.10.7)\n",
      "Requirement already satisfied: numpy in /opt/anaconda3/envs/atron1221/lib/python3.13/site-packages (2.3.4)\n",
      "Requirement already satisfied: tqdm in /opt/anaconda3/envs/atron1221/lib/python3.13/site-packages (4.67.1)\n",
      "Requirement already satisfied: requests>=2.19 in /opt/anaconda3/envs/atron1221/lib/python3.13/site-packages (from astroquery) (2.32.5)\n",
      "Requirement already satisfied: beautifulsoup4>=4.8 in /opt/anaconda3/envs/atron1221/lib/python3.13/site-packages (from astroquery) (4.14.2)\n",
      "Requirement already satisfied: html5lib>=0.999 in /opt/anaconda3/envs/atron1221/lib/python3.13/site-packages (from astroquery) (1.1)\n",
      "Requirement already satisfied: keyring>=15.0 in /opt/anaconda3/envs/atron1221/lib/python3.13/site-packages (from astroquery) (25.6.0)\n",
      "Requirement already satisfied: pyvo>=1.5 in /opt/anaconda3/envs/atron1221/lib/python3.13/site-packages (from astroquery) (1.7.1)\n",
      "Requirement already satisfied: pyerfa>=2.0.1.1 in /opt/anaconda3/envs/atron1221/lib/python3.13/site-packages (from astropy) (2.0.1.5)\n",
      "Requirement already satisfied: astropy-iers-data>=0.2025.9.29.0.35.48 in /opt/anaconda3/envs/atron1221/lib/python3.13/site-packages (from astropy) (0.2025.10.27.0.39.10)\n",
      "Requirement already satisfied: PyYAML>=6.0.0 in /opt/anaconda3/envs/atron1221/lib/python3.13/site-packages (from astropy) (6.0.3)\n",
      "Requirement already satisfied: packaging>=22.0.0 in /opt/anaconda3/envs/atron1221/lib/python3.13/site-packages (from astropy) (25.0)\n",
      "Requirement already satisfied: python-dateutil>=2.8.2 in /opt/anaconda3/envs/atron1221/lib/python3.13/site-packages (from pandas) (2.9.0.post0)\n",
      "Requirement already satisfied: pytz>=2020.1 in /opt/anaconda3/envs/atron1221/lib/python3.13/site-packages (from pandas) (2025.2)\n",
      "Requirement already satisfied: tzdata>=2022.7 in /opt/anaconda3/envs/atron1221/lib/python3.13/site-packages (from pandas) (2025.2)\n",
      "Requirement already satisfied: contourpy>=1.0.1 in /opt/anaconda3/envs/atron1221/lib/python3.13/site-packages (from matplotlib) (1.3.3)\n",
      "Requirement already satisfied: cycler>=0.10 in /opt/anaconda3/envs/atron1221/lib/python3.13/site-packages (from matplotlib) (0.12.1)\n",
      "Requirement already satisfied: fonttools>=4.22.0 in /opt/anaconda3/envs/atron1221/lib/python3.13/site-packages (from matplotlib) (4.60.1)\n",
      "Requirement already satisfied: kiwisolver>=1.3.1 in /opt/anaconda3/envs/atron1221/lib/python3.13/site-packages (from matplotlib) (1.4.9)\n",
      "Requirement already satisfied: pillow>=8 in /opt/anaconda3/envs/atron1221/lib/python3.13/site-packages (from matplotlib) (12.0.0)\n",
      "Requirement already satisfied: pyparsing>=3 in /opt/anaconda3/envs/atron1221/lib/python3.13/site-packages (from matplotlib) (3.2.5)\n",
      "Requirement already satisfied: soupsieve>1.2 in /opt/anaconda3/envs/atron1221/lib/python3.13/site-packages (from beautifulsoup4>=4.8->astroquery) (2.8)\n",
      "Requirement already satisfied: typing-extensions>=4.0.0 in /opt/anaconda3/envs/atron1221/lib/python3.13/site-packages (from beautifulsoup4>=4.8->astroquery) (4.15.0)\n",
      "Requirement already satisfied: six>=1.9 in /opt/anaconda3/envs/atron1221/lib/python3.13/site-packages (from html5lib>=0.999->astroquery) (1.17.0)\n",
      "Requirement already satisfied: webencodings in /opt/anaconda3/envs/atron1221/lib/python3.13/site-packages (from html5lib>=0.999->astroquery) (0.5.1)\n",
      "Requirement already satisfied: jaraco.classes in /opt/anaconda3/envs/atron1221/lib/python3.13/site-packages (from keyring>=15.0->astroquery) (3.4.0)\n",
      "Requirement already satisfied: jaraco.functools in /opt/anaconda3/envs/atron1221/lib/python3.13/site-packages (from keyring>=15.0->astroquery) (4.3.0)\n",
      "Requirement already satisfied: jaraco.context in /opt/anaconda3/envs/atron1221/lib/python3.13/site-packages (from keyring>=15.0->astroquery) (6.0.1)\n",
      "Requirement already satisfied: charset_normalizer<4,>=2 in /opt/anaconda3/envs/atron1221/lib/python3.13/site-packages (from requests>=2.19->astroquery) (3.4.4)\n",
      "Requirement already satisfied: idna<4,>=2.5 in /opt/anaconda3/envs/atron1221/lib/python3.13/site-packages (from requests>=2.19->astroquery) (3.11)\n",
      "Requirement already satisfied: urllib3<3,>=1.21.1 in /opt/anaconda3/envs/atron1221/lib/python3.13/site-packages (from requests>=2.19->astroquery) (2.5.0)\n",
      "Requirement already satisfied: certifi>=2017.4.17 in /opt/anaconda3/envs/atron1221/lib/python3.13/site-packages (from requests>=2.19->astroquery) (2025.10.5)\n",
      "Requirement already satisfied: more-itertools in /opt/anaconda3/envs/atron1221/lib/python3.13/site-packages (from jaraco.classes->keyring>=15.0->astroquery) (10.8.0)\n",
      "Requirement already satisfied: python-dateutil>=2.8.2 in /opt/anaconda3/envs/atron1221/lib/python3.13/site-packages (from pandas) (2.9.0.post0)\n",
      "Requirement already satisfied: pytz>=2020.1 in /opt/anaconda3/envs/atron1221/lib/python3.13/site-packages (from pandas) (2025.2)\n",
      "Requirement already satisfied: tzdata>=2022.7 in /opt/anaconda3/envs/atron1221/lib/python3.13/site-packages (from pandas) (2025.2)\n",
      "Requirement already satisfied: contourpy>=1.0.1 in /opt/anaconda3/envs/atron1221/lib/python3.13/site-packages (from matplotlib) (1.3.3)\n",
      "Requirement already satisfied: cycler>=0.10 in /opt/anaconda3/envs/atron1221/lib/python3.13/site-packages (from matplotlib) (0.12.1)\n",
      "Requirement already satisfied: fonttools>=4.22.0 in /opt/anaconda3/envs/atron1221/lib/python3.13/site-packages (from matplotlib) (4.60.1)\n",
      "Requirement already satisfied: kiwisolver>=1.3.1 in /opt/anaconda3/envs/atron1221/lib/python3.13/site-packages (from matplotlib) (1.4.9)\n",
      "Requirement already satisfied: pillow>=8 in /opt/anaconda3/envs/atron1221/lib/python3.13/site-packages (from matplotlib) (12.0.0)\n",
      "Requirement already satisfied: pyparsing>=3 in /opt/anaconda3/envs/atron1221/lib/python3.13/site-packages (from matplotlib) (3.2.5)\n",
      "Requirement already satisfied: soupsieve>1.2 in /opt/anaconda3/envs/atron1221/lib/python3.13/site-packages (from beautifulsoup4>=4.8->astroquery) (2.8)\n",
      "Requirement already satisfied: typing-extensions>=4.0.0 in /opt/anaconda3/envs/atron1221/lib/python3.13/site-packages (from beautifulsoup4>=4.8->astroquery) (4.15.0)\n",
      "Requirement already satisfied: six>=1.9 in /opt/anaconda3/envs/atron1221/lib/python3.13/site-packages (from html5lib>=0.999->astroquery) (1.17.0)\n",
      "Requirement already satisfied: webencodings in /opt/anaconda3/envs/atron1221/lib/python3.13/site-packages (from html5lib>=0.999->astroquery) (0.5.1)\n",
      "Requirement already satisfied: jaraco.classes in /opt/anaconda3/envs/atron1221/lib/python3.13/site-packages (from keyring>=15.0->astroquery) (3.4.0)\n",
      "Requirement already satisfied: jaraco.functools in /opt/anaconda3/envs/atron1221/lib/python3.13/site-packages (from keyring>=15.0->astroquery) (4.3.0)\n",
      "Requirement already satisfied: jaraco.context in /opt/anaconda3/envs/atron1221/lib/python3.13/site-packages (from keyring>=15.0->astroquery) (6.0.1)\n",
      "Requirement already satisfied: charset_normalizer<4,>=2 in /opt/anaconda3/envs/atron1221/lib/python3.13/site-packages (from requests>=2.19->astroquery) (3.4.4)\n",
      "Requirement already satisfied: idna<4,>=2.5 in /opt/anaconda3/envs/atron1221/lib/python3.13/site-packages (from requests>=2.19->astroquery) (3.11)\n",
      "Requirement already satisfied: urllib3<3,>=1.21.1 in /opt/anaconda3/envs/atron1221/lib/python3.13/site-packages (from requests>=2.19->astroquery) (2.5.0)\n",
      "Requirement already satisfied: certifi>=2017.4.17 in /opt/anaconda3/envs/atron1221/lib/python3.13/site-packages (from requests>=2.19->astroquery) (2025.10.5)\n",
      "Requirement already satisfied: more-itertools in /opt/anaconda3/envs/atron1221/lib/python3.13/site-packages (from jaraco.classes->keyring>=15.0->astroquery) (10.8.0)\n"
     ]
    }
   ],
   "source": [
    "# Install required packages\n",
    "!pip install astroquery astropy pandas matplotlib numpy tqdm"
   ]
  },
  {
   "cell_type": "markdown",
   "id": "21ac05ef",
   "metadata": {},
   "source": [
    "## Step 2: Import Libraries\n",
    "Import all necessary Python libraries for data manipulation, FITS file handling, and visualization."
   ]
  },
  {
   "cell_type": "code",
   "execution_count": 2,
   "id": "102b5295",
   "metadata": {},
   "outputs": [
    {
     "name": "stdout",
     "output_type": "stream",
     "text": [
      "All libraries imported successfully!\n",
      "Pandas version: 2.3.3\n",
      "Astropy installed and ready for FITS file handling\n"
     ]
    }
   ],
   "source": [
    "# Core data manipulation and analysis\n",
    "import pandas as pd\n",
    "import numpy as np\n",
    "import matplotlib.pyplot as plt\n",
    "from matplotlib.colors import LogNorm\n",
    "import os\n",
    "import warnings\n",
    "warnings.filterwarnings('ignore')\n",
    "\n",
    "# Astronomical data handling\n",
    "from astropy.io import fits\n",
    "\n",
    "print(\"All libraries imported successfully!\")\n",
    "print(f\"Pandas version: {pd.__version__}\")\n",
    "print(f\"Astropy installed and ready for FITS file handling\")"
   ]
  },
  {
   "cell_type": "markdown",
   "id": "4fb259d2",
   "metadata": {},
   "source": [
    "## Step 3: Data Acquisition - Downloading JWST FITS Files\n",
    "\n",
    "We'll use two approaches to download JWST data:\n",
    "1. **Programmatic Download** using `astroquery` (demonstrates automation and reproducibility)\n",
    "2. **Manual Download Instructions** for understanding the MAST Archive interface\n",
    "\n",
    "### Approach 1: Programmatic Download using astroquery\n",
    "\n",
    "We'll search for JWST observations of several famous targets and download their calibrated `_i2d.fits` files. These targets were chosen because they're iconic JWST \"First Images\" released in 2022 and have excellent data quality."
   ]
  },
  {
   "cell_type": "code",
   "execution_count": 3,
   "id": "4a947cd0",
   "metadata": {},
   "outputs": [
    {
     "name": "stdout",
     "output_type": "stream",
     "text": [
      "Data directory created: ./jwst_data\n",
      "Current working directory: /Users/jacobparzych/astron1221/Astron_1221_JWST_Image_Gallery\n"
     ]
    }
   ],
   "source": [
    "# Create directory for storing FITS files\n",
    "data_dir = './jwst_data'\n",
    "os.makedirs(data_dir, exist_ok=True)\n",
    "\n",
    "print(f\"Data directory created: {data_dir}\")\n",
    "print(f\"Current working directory: {os.getcwd()}\")"
   ]
  },
  {
   "cell_type": "markdown",
   "id": "d391f997",
   "metadata": {},
   "source": [
    "### Download Strategy: Direct URLs from MAST Archive\n",
    "\n",
    "Since MAST API queries can be unreliable, we'll use direct URLs to download specific JWST Early Release Observation (ERO) images. This approach is more reliable and similar to what was demonstrated in Lecture 14.\n",
    "\n",
    "We'll download `_i2d.fits` files, which are:\n",
    "- **Level 3 calibrated data products**\n",
    "- **2D images** that have been fully processed and calibrated\n",
    "- **Science-ready** for analysis\n",
    "- The standard format used by professional astronomers"
   ]
  },
  {
   "cell_type": "code",
   "execution_count": 6,
   "id": "22770c33",
   "metadata": {},
   "outputs": [
    {
     "name": "stdout",
     "output_type": "stream",
     "text": [
      "Prepared 12 JWST images for download from 4 different targets\n",
      "\n",
      "Target breakdown:\n",
      "  - NGC 3132 (Southern Ring Nebula): 3 images\n",
      "  - NGC 3324 (Carina Nebula): 2 images\n",
      "  - Stephan's Quintet: 3 images\n",
      "  - SMACS 0723 (Deep Field): 4 images\n"
     ]
    }
   ],
   "source": [
    "import urllib.request\n",
    "import gzip\n",
    "import shutil\n",
    "from tqdm import tqdm\n",
    "\n",
    "# Define JWST images to download from MAST archive\n",
    "# These are specific JWST Early Release Observations (ERO) from famous targets\n",
    "jwst_files = {\n",
    "    # Southern Ring Nebula (NGC 3132) - NIRCam images\n",
    "    \"jw02732001001_02101_00001_nrcb1_i2d.fits\": {\n",
    "        \"url\": \"https://mast.stsci.edu/api/v0.1/Download/file?uri=mast:JWST/product/jw02732001001_02101_00001_nrcb1_i2d.fits\",\n",
    "        \"target\": \"NGC 3132 (Southern Ring Nebula)\",\n",
    "        \"instrument\": \"NIRCam\",\n",
    "        \"filter\": \"F090W\"\n",
    "    },\n",
    "    \"jw02732001001_02101_00002_nrcb2_i2d.fits\": {\n",
    "        \"url\": \"https://mast.stsci.edu/api/v0.1/Download/file?uri=mast:JWST/product/jw02732001001_02101_00002_nrcb2_i2d.fits\",\n",
    "        \"target\": \"NGC 3132 (Southern Ring Nebula)\",\n",
    "        \"instrument\": \"NIRCam\",\n",
    "        \"filter\": \"F090W\"\n",
    "    },\n",
    "    \"jw02732001001_02101_00001_nrcb3_i2d.fits\": {\n",
    "        \"url\": \"https://mast.stsci.edu/api/v0.1/Download/file?uri=mast:JWST/product/jw02732001001_02101_00001_nrcb3_i2d.fits\",\n",
    "        \"target\": \"NGC 3132 (Southern Ring Nebula)\",\n",
    "        \"instrument\": \"NIRCam\",\n",
    "        \"filter\": \"F090W\"\n",
    "    },\n",
    "    # Carina Nebula (NGC 3324) - NIRCam images  \n",
    "    \"jw02731001001_02101_00001_nrcb1_i2d.fits\": {\n",
    "        \"url\": \"https://mast.stsci.edu/api/v0.1/Download/file?uri=mast:JWST/product/jw02731001001_02101_00001_nrcb1_i2d.fits\",\n",
    "        \"target\": \"NGC 3324 (Carina Nebula)\",\n",
    "        \"instrument\": \"NIRCam\",\n",
    "        \"filter\": \"F090W\"\n",
    "    },\n",
    "    \"jw02731001001_02101_00001_nrcb2_i2d.fits\": {\n",
    "        \"url\": \"https://mast.stsci.edu/api/v0.1/Download/file?uri=mast:JWST/product/jw02731001001_02101_00001_nrcb2_i2d.fits\",\n",
    "        \"target\": \"NGC 3324 (Carina Nebula)\",\n",
    "        \"instrument\": \"NIRCam\",\n",
    "        \"filter\": \"F090W\"\n",
    "    },\n",
    "    # Stephan's Quintet - NIRCam images\n",
    "    \"jw02733001001_02101_00001_nrcb1_i2d.fits\": {\n",
    "        \"url\": \"https://mast.stsci.edu/api/v0.1/Download/file?uri=mast:JWST/product/jw02733001001_02101_00001_nrcb1_i2d.fits\",\n",
    "        \"target\": \"Stephan's Quintet\",\n",
    "        \"instrument\": \"NIRCam\",\n",
    "        \"filter\": \"F090W\"\n",
    "    },\n",
    "    \"jw02733001001_02101_00001_nrcb2_i2d.fits\": {\n",
    "        \"url\": \"https://mast.stsci.edu/api/v0.1/Download/file?uri=mast:JWST/product/jw02733001001_02101_00001_nrcb2_i2d.fits\",\n",
    "        \"target\": \"Stephan's Quintet\",\n",
    "        \"instrument\": \"NIRCam\",\n",
    "        \"filter\": \"F090W\"\n",
    "    },\n",
    "    \"jw02733001001_02101_00001_nrcb3_i2d.fits\": {\n",
    "        \"url\": \"https://mast.stsci.edu/api/v0.1/Download/file?uri=mast:JWST/product/jw02733001001_02101_00001_nrcb3_i2d.fits\",\n",
    "        \"target\": \"Stephan's Quintet\",\n",
    "        \"instrument\": \"NIRCam\",\n",
    "        \"filter\": \"F090W\"\n",
    "    },\n",
    "    # SMACS 0723 (Deep Field) - NIRCam images\n",
    "    \"jw02736001001_02101_00001_nrcb1_i2d.fits\": {\n",
    "        \"url\": \"https://mast.stsci.edu/api/v0.1/Download/file?uri=mast:JWST/product/jw02736001001_02101_00001_nrcb1_i2d.fits\",\n",
    "        \"target\": \"SMACS 0723 (Deep Field)\",\n",
    "        \"instrument\": \"NIRCam\",\n",
    "        \"filter\": \"F090W\"\n",
    "    },\n",
    "    \"jw02736001001_02101_00001_nrcb2_i2d.fits\": {\n",
    "        \"url\": \"https://mast.stsci.edu/api/v0.1/Download/file?uri=mast:JWST/product/jw02736001001_02101_00001_nrcb2_i2d.fits\",\n",
    "        \"target\": \"SMACS 0723 (Deep Field)\",\n",
    "        \"instrument\": \"NIRCam\",\n",
    "        \"filter\": \"F090W\"\n",
    "    },\n",
    "    \"jw02736001001_02101_00001_nrcb3_i2d.fits\": {\n",
    "        \"url\": \"https://mast.stsci.edu/api/v0.1/Download/file?uri=mast:JWST/product/jw02736001001_02101_00001_nrcb3_i2d.fits\",\n",
    "        \"target\": \"SMACS 0723 (Deep Field)\",\n",
    "        \"instrument\": \"NIRCam\",\n",
    "        \"filter\": \"F090W\"\n",
    "    },\n",
    "    \"jw02736001001_02101_00001_nrcb4_i2d.fits\": {\n",
    "        \"url\": \"https://mast.stsci.edu/api/v0.1/Download/file?uri=mast:JWST/product/jw02736001001_02101_00001_nrcb4_i2d.fits\",\n",
    "        \"target\": \"SMACS 0723 (Deep Field)\",\n",
    "        \"instrument\": \"NIRCam\",\n",
    "        \"filter\": \"F090W\"\n",
    "    },\n",
    "}\n",
    "\n",
    "print(f\"Prepared {len(jwst_files)} JWST images for download from {len(set(info['target'] for info in jwst_files.values()))} different targets\")\n",
    "print(\"\\nTarget breakdown:\")\n",
    "targets_count = {}\n",
    "for info in jwst_files.values():\n",
    "    target = info['target']\n",
    "    targets_count[target] = targets_count.get(target, 0) + 1\n",
    "\n",
    "for target, count in targets_count.items():\n",
    "    print(f\"  - {target}: {count} images\")"
   ]
  },
  {
   "cell_type": "markdown",
   "id": "66b7a1df",
   "metadata": {},
   "source": [
    "### Download FITS Files\n",
    "\n",
    "Now we'll download each FITS file using `urllib.request`. This is the same approach used in Lecture 14 for downloading JWST data. The function checks if files already exist to avoid re-downloading."
   ]
  },
  {
   "cell_type": "code",
   "execution_count": 7,
   "id": "7d9a2dbc",
   "metadata": {},
   "outputs": [
    {
     "name": "stdout",
     "output_type": "stream",
     "text": [
      "Starting JWST FITS file downloads...\n",
      "============================================================\n",
      "\n",
      "NGC 3132 (Southern Ring Nebula) - NIRCam - F090W\n",
      "  ✓ jw02732001001_02101_00001_nrcb1_i2d.fits already exists (113.0 MB)\n",
      "\n",
      "NGC 3132 (Southern Ring Nebula) - NIRCam - F090W\n",
      "  ✓ jw02732001001_02101_00002_nrcb2_i2d.fits already exists (113.2 MB)\n",
      "\n",
      "NGC 3132 (Southern Ring Nebula) - NIRCam - F090W\n",
      "  ✓ jw02732001001_02101_00001_nrcb3_i2d.fits already exists (113.2 MB)\n",
      "\n",
      "NGC 3324 (Carina Nebula) - NIRCam - F090W\n",
      "  ✓ jw02731001001_02101_00001_nrcb1_i2d.fits already exists (113.0 MB)\n",
      "\n",
      "NGC 3324 (Carina Nebula) - NIRCam - F090W\n",
      "  ✓ jw02731001001_02101_00001_nrcb2_i2d.fits already exists (113.2 MB)\n",
      "\n",
      "Stephan's Quintet - NIRCam - F090W\n",
      "  ✓ jw02733001001_02101_00001_nrcb1_i2d.fits already exists (113.0 MB)\n",
      "\n",
      "Stephan's Quintet - NIRCam - F090W\n",
      "  ✓ jw02733001001_02101_00001_nrcb2_i2d.fits already exists (113.2 MB)\n",
      "\n",
      "Stephan's Quintet - NIRCam - F090W\n",
      "  ✓ jw02733001001_02101_00001_nrcb3_i2d.fits already exists (113.2 MB)\n",
      "\n",
      "SMACS 0723 (Deep Field) - NIRCam - F090W\n",
      "  ✓ jw02736001001_02101_00001_nrcb1_i2d.fits already exists (113.0 MB)\n",
      "\n",
      "SMACS 0723 (Deep Field) - NIRCam - F090W\n",
      "  ✓ jw02736001001_02101_00001_nrcb2_i2d.fits already exists (113.2 MB)\n",
      "\n",
      "SMACS 0723 (Deep Field) - NIRCam - F090W\n",
      "  Downloading jw02736001001_02101_00001_nrcb3_i2d.fits...\n"
     ]
    },
    {
     "name": "stderr",
     "output_type": "stream",
     "text": [
      "jw02736001001_02101_00001_nrcb3_i2d.fits: 119MB [01:52, 1.06MB/s]                            \n",
      "jw02736001001_02101_00001_nrcb3_i2d.fits: 119MB [01:52, 1.06MB/s]                           \n"
     ]
    },
    {
     "name": "stdout",
     "output_type": "stream",
     "text": [
      "  ✓ Downloaded jw02736001001_02101_00001_nrcb3_i2d.fits (113.2 MB)\n",
      "\n",
      "SMACS 0723 (Deep Field) - NIRCam - F090W\n",
      "  Downloading jw02736001001_02101_00001_nrcb4_i2d.fits...\n"
     ]
    },
    {
     "name": "stderr",
     "output_type": "stream",
     "text": [
      "jw02736001001_02101_00001_nrcb4_i2d.fits: 119MB [02:12, 901kB/s]                             "
     ]
    },
    {
     "name": "stdout",
     "output_type": "stream",
     "text": [
      "  ✓ Downloaded jw02736001001_02101_00001_nrcb4_i2d.fits (113.5 MB)\n",
      "\n",
      "============================================================\n",
      "Download Summary:\n",
      "  ✓ Successfully downloaded/found: 12 files\n",
      "============================================================\n"
     ]
    },
    {
     "name": "stderr",
     "output_type": "stream",
     "text": [
      "\n"
     ]
    }
   ],
   "source": [
    "def download_file(url, filename, data_dir):\n",
    "    \"\"\"\n",
    "    Download a file from a URL to a local directory with progress bar.\n",
    "    \n",
    "    Parameters:\n",
    "    -----------\n",
    "    url : str\n",
    "        URL to download from\n",
    "    filename : str\n",
    "        Local filename to save as\n",
    "    data_dir : str\n",
    "        Directory to save file in\n",
    "    \n",
    "    Returns:\n",
    "    --------\n",
    "    bool\n",
    "        True if download succeeded, False otherwise\n",
    "    \"\"\"\n",
    "    filepath = os.path.join(data_dir, filename)\n",
    "    \n",
    "    # Check if file already exists\n",
    "    if os.path.exists(filepath):\n",
    "        filesize_mb = os.path.getsize(filepath) / (1024 * 1024)\n",
    "        print(f\"  ✓ {filename} already exists ({filesize_mb:.1f} MB)\")\n",
    "        return True\n",
    "    \n",
    "    try:\n",
    "        # Download with progress bar (similar to Lecture 14)\n",
    "        print(f\"  Downloading {filename}...\")\n",
    "        \n",
    "        class DownloadProgressBar(tqdm):\n",
    "            def update_to(self, b=1, bsize=1, tsize=None):\n",
    "                if tsize is not None:\n",
    "                    self.total = tsize\n",
    "                self.update(b * bsize - self.n)\n",
    "        \n",
    "        with DownloadProgressBar(unit='B', unit_scale=True, miniters=1, desc=filename) as t:\n",
    "            urllib.request.urlretrieve(url, filepath, reporthook=t.update_to)\n",
    "        \n",
    "        filesize_mb = os.path.getsize(filepath) / (1024 * 1024)\n",
    "        print(f\"  ✓ Downloaded {filename} ({filesize_mb:.1f} MB)\")\n",
    "        return True\n",
    "        \n",
    "    except Exception as e:\n",
    "        print(f\"  ✗ Error downloading {filename}: {e}\")\n",
    "        return False\n",
    "\n",
    "# Download all FITS files\n",
    "print(\"Starting JWST FITS file downloads...\")\n",
    "print(\"=\"*60)\n",
    "\n",
    "downloaded_files = []\n",
    "failed_files = []\n",
    "\n",
    "for filename, info in jwst_files.items():\n",
    "    print(f\"\\n{info['target']} - {info['instrument']} - {info['filter']}\")\n",
    "    success = download_file(info['url'], filename, data_dir)\n",
    "    \n",
    "    if success:\n",
    "        downloaded_files.append(filename)\n",
    "    else:\n",
    "        failed_files.append(filename)\n",
    "\n",
    "print(\"\\n\" + \"=\"*60)\n",
    "print(\"Download Summary:\")\n",
    "print(f\"  ✓ Successfully downloaded/found: {len(downloaded_files)} files\")\n",
    "if failed_files:\n",
    "    print(f\"  ✗ Failed downloads: {len(failed_files)} files\")\n",
    "print(\"=\"*60)"
   ]
  },
  {
   "cell_type": "markdown",
   "id": "974fbbcc",
   "metadata": {},
   "source": [
    "### Verify Downloaded Files\n",
    "\n",
    "Let's verify that our FITS files were downloaded successfully by scanning the data directory and displaying file information."
   ]
  },
  {
   "cell_type": "code",
   "execution_count": 8,
   "id": "9aaacfa5",
   "metadata": {},
   "outputs": [
    {
     "name": "stdout",
     "output_type": "stream",
     "text": [
      "Found 12 FITS files in ./jwst_data/\n",
      "\n",
      "============================================================\n",
      "File Inventory:\n",
      "============================================================\n",
      " 1. jw02731001001_02101_00001_nrcb1_i2d.fits           |  113.0 MB | NGC 3324 (Carina Nebula)\n",
      " 2. jw02731001001_02101_00001_nrcb2_i2d.fits           |  113.2 MB | NGC 3324 (Carina Nebula)\n",
      " 3. jw02732001001_02101_00001_nrcb1_i2d.fits           |  113.0 MB | NGC 3132 (Southern Ring Nebula)\n",
      " 4. jw02732001001_02101_00001_nrcb3_i2d.fits           |  113.2 MB | NGC 3132 (Southern Ring Nebula)\n",
      " 5. jw02732001001_02101_00002_nrcb2_i2d.fits           |  113.2 MB | NGC 3132 (Southern Ring Nebula)\n",
      " 6. jw02733001001_02101_00001_nrcb1_i2d.fits           |  113.0 MB | Stephan's Quintet\n",
      " 7. jw02733001001_02101_00001_nrcb2_i2d.fits           |  113.2 MB | Stephan's Quintet\n",
      " 8. jw02733001001_02101_00001_nrcb3_i2d.fits           |  113.2 MB | Stephan's Quintet\n",
      " 9. jw02736001001_02101_00001_nrcb1_i2d.fits           |  113.0 MB | SMACS 0723 (Deep Field)\n",
      "10. jw02736001001_02101_00001_nrcb2_i2d.fits           |  113.2 MB | SMACS 0723 (Deep Field)\n",
      "11. jw02736001001_02101_00001_nrcb3_i2d.fits           |  113.2 MB | SMACS 0723 (Deep Field)\n",
      "12. jw02736001001_02101_00001_nrcb4_i2d.fits           |  113.5 MB | SMACS 0723 (Deep Field)\n",
      "============================================================\n",
      "Total data: 1357.7 MB (1.33 GB)\n",
      "============================================================\n"
     ]
    }
   ],
   "source": [
    "# Scan for all FITS files in the data directory\n",
    "all_fits_files = []\n",
    "for root, dirs, files in os.walk(data_dir):\n",
    "    for file in files:\n",
    "        if file.endswith('.fits'):\n",
    "            all_fits_files.append(os.path.join(root, file))\n",
    "\n",
    "print(f\"Found {len(all_fits_files)} FITS files in {data_dir}/\")\n",
    "print(\"\\n\" + \"=\"*60)\n",
    "print(\"File Inventory:\")\n",
    "print(\"=\"*60)\n",
    "\n",
    "total_size_mb = 0\n",
    "for i, filepath in enumerate(sorted(all_fits_files), 1):\n",
    "    filename = os.path.basename(filepath)\n",
    "    filesize_mb = os.path.getsize(filepath) / (1024 * 1024)\n",
    "    total_size_mb += filesize_mb\n",
    "    \n",
    "    # Get target info if available\n",
    "    if filename in jwst_files:\n",
    "        target = jwst_files[filename]['target']\n",
    "        print(f\"{i:2d}. {filename:50s} | {filesize_mb:6.1f} MB | {target}\")\n",
    "    else:\n",
    "        print(f\"{i:2d}. {filename:50s} | {filesize_mb:6.1f} MB\")\n",
    "\n",
    "print(\"=\"*60)\n",
    "print(f\"Total data: {total_size_mb:.1f} MB ({total_size_mb/1024:.2f} GB)\")\n",
    "print(\"=\"*60)"
   ]
  },
  {
   "cell_type": "markdown",
   "id": "338dd93c",
   "metadata": {},
   "source": [
    "---\n",
    "\n",
    "## ✅ Data Acquisition Complete!\n",
    "\n",
    "We have successfully downloaded JWST `_i2d.fits` files from the MAST Archive. These are fully calibrated, science-ready images from the James Webb Space Telescope's Early Release Observations.\n",
    "\n",
    "### What We Have:\n",
    "- **Southern Ring Nebula (NGC 3132)**: Multiple NIRCam pointings showing this planetary nebula\n",
    "- **Carina Nebula (NGC 3324)**: Star-forming region with iconic \"Cosmic Cliffs\"\n",
    "- **Stephan's Quintet**: Interacting galaxy group\n",
    "\n",
    "### Next Steps:\n",
    "Now that we have the data, the next phases of the project will be:\n",
    "1. **Extract metadata** from FITS headers (target name, coordinates, instrument, filter, exposure time, etc.)\n",
    "2. **Organize into Pandas DataFrame** for easy manipulation and analysis\n",
    "3. **Create catalog features** (filtering, sorting, summary statistics)\n",
    "4. **Visualize the data** (plots, analysis dashboard)\n",
    "5. **Display FITS images** (optional but recommended)\n",
    "\n",
    "The data acquisition phase is complete. Time to start analyzing!"
   ]
  },
  {
   "cell_type": "markdown",
   "id": "9c808b9b",
   "metadata": {},
   "source": [
    "---\n",
    "\n",
    "## 📊 Project Status\n",
    "\n",
    "**Phase 1: Data Acquisition** ✅ **COMPLETE**\n",
    "\n",
    "We have successfully:\n",
    "- Set up the project environment and imported necessary libraries\n",
    "- Created a data directory structure\n",
    "- Downloaded 7 JWST `_i2d.fits` files using direct URLs from MAST\n",
    "- Verified all files and confirmed successful downloads\n",
    "\n",
    "**Total Data**: ~XX MB of JWST observations from 3 famous targets\n",
    "\n",
    "### Ready for Next Phase!\n",
    "The FITS files are now ready for:\n",
    "1. Metadata extraction\n",
    "2. DataFrame organization  \n",
    "3. Catalog creation\n",
    "4. Analysis and visualization\n",
    "\n",
    "To continue the project, add new cells below to extract and analyze the FITS metadata."
   ]
  }
 ],
 "metadata": {
  "kernelspec": {
   "display_name": "atron1221",
   "language": "python",
   "name": "python3"
  },
  "language_info": {
   "codemirror_mode": {
    "name": "ipython",
    "version": 3
   },
   "file_extension": ".py",
   "mimetype": "text/x-python",
   "name": "python",
   "nbconvert_exporter": "python",
   "pygments_lexer": "ipython3",
   "version": "3.13.5"
  }
 },
 "nbformat": 4,
 "nbformat_minor": 5
}
